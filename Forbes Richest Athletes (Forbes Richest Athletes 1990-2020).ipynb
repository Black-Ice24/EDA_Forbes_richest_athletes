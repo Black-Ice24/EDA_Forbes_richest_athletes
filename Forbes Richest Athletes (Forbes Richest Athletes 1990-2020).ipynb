{
 "cells": [
  {
   "cell_type": "code",
   "execution_count": 1,
   "id": "5c793f9f",
   "metadata": {},
   "outputs": [],
   "source": [
    "### Importing the required packages here\n",
    "\n",
    "import numpy as np\n",
    "import pandas as pd\n",
    "import seaborn as sns\n",
    "\n",
    "from datetime import datetime\n",
    "import matplotlib.pyplot as plt\n",
    "%matplotlib inline\n"
   ]
  },
  {
   "cell_type": "code",
   "execution_count": 2,
   "id": "5bc061cb",
   "metadata": {},
   "outputs": [
    {
     "data": {
      "text/html": [
       "<div>\n",
       "<style scoped>\n",
       "    .dataframe tbody tr th:only-of-type {\n",
       "        vertical-align: middle;\n",
       "    }\n",
       "\n",
       "    .dataframe tbody tr th {\n",
       "        vertical-align: top;\n",
       "    }\n",
       "\n",
       "    .dataframe thead th {\n",
       "        text-align: right;\n",
       "    }\n",
       "</style>\n",
       "<table border=\"1\" class=\"dataframe\">\n",
       "  <thead>\n",
       "    <tr style=\"text-align: right;\">\n",
       "      <th></th>\n",
       "      <th>S.NO</th>\n",
       "      <th>Name</th>\n",
       "      <th>Nationality</th>\n",
       "      <th>Current Rank</th>\n",
       "      <th>Previous Year Rank</th>\n",
       "      <th>Sport</th>\n",
       "      <th>Year</th>\n",
       "      <th>earnings ($ million)</th>\n",
       "    </tr>\n",
       "  </thead>\n",
       "  <tbody>\n",
       "    <tr>\n",
       "      <th>0</th>\n",
       "      <td>1</td>\n",
       "      <td>Mike Tyson</td>\n",
       "      <td>USA</td>\n",
       "      <td>1</td>\n",
       "      <td>NaN</td>\n",
       "      <td>boxing</td>\n",
       "      <td>1990</td>\n",
       "      <td>28.6</td>\n",
       "    </tr>\n",
       "    <tr>\n",
       "      <th>1</th>\n",
       "      <td>2</td>\n",
       "      <td>Buster Douglas</td>\n",
       "      <td>USA</td>\n",
       "      <td>2</td>\n",
       "      <td>NaN</td>\n",
       "      <td>boxing</td>\n",
       "      <td>1990</td>\n",
       "      <td>26.0</td>\n",
       "    </tr>\n",
       "    <tr>\n",
       "      <th>2</th>\n",
       "      <td>3</td>\n",
       "      <td>Sugar Ray Leonard</td>\n",
       "      <td>USA</td>\n",
       "      <td>3</td>\n",
       "      <td>NaN</td>\n",
       "      <td>boxing</td>\n",
       "      <td>1990</td>\n",
       "      <td>13.0</td>\n",
       "    </tr>\n",
       "    <tr>\n",
       "      <th>3</th>\n",
       "      <td>4</td>\n",
       "      <td>Ayrton Senna</td>\n",
       "      <td>Brazil</td>\n",
       "      <td>4</td>\n",
       "      <td>NaN</td>\n",
       "      <td>auto racing</td>\n",
       "      <td>1990</td>\n",
       "      <td>10.0</td>\n",
       "    </tr>\n",
       "    <tr>\n",
       "      <th>4</th>\n",
       "      <td>5</td>\n",
       "      <td>Alain Prost</td>\n",
       "      <td>France</td>\n",
       "      <td>5</td>\n",
       "      <td>NaN</td>\n",
       "      <td>auto racing</td>\n",
       "      <td>1990</td>\n",
       "      <td>9.0</td>\n",
       "    </tr>\n",
       "  </tbody>\n",
       "</table>\n",
       "</div>"
      ],
      "text/plain": [
       "   S.NO               Name Nationality  Current Rank Previous Year Rank  \\\n",
       "0     1         Mike Tyson         USA             1                NaN   \n",
       "1     2     Buster Douglas         USA             2                NaN   \n",
       "2     3  Sugar Ray Leonard         USA             3                NaN   \n",
       "3     4       Ayrton Senna      Brazil             4                NaN   \n",
       "4     5        Alain Prost      France             5                NaN   \n",
       "\n",
       "         Sport  Year  earnings ($ million)  \n",
       "0       boxing  1990                  28.6  \n",
       "1       boxing  1990                  26.0  \n",
       "2       boxing  1990                  13.0  \n",
       "3  auto racing  1990                  10.0  \n",
       "4  auto racing  1990                   9.0  "
      ]
     },
     "execution_count": 2,
     "metadata": {},
     "output_type": "execute_result"
    }
   ],
   "source": [
    "#### load the Forbes Richest Athletes (Forbes Richest Athletes 1990-2020) dataset and create the dataframe\n",
    "\n",
    "athletes_df = pd.read_csv(\"datasets/Forbes Richest Atheletes (Forbes Richest Athletes 1990-2020).csv\")\n",
    "athletes_df.head()"
   ]
  },
  {
   "cell_type": "code",
   "execution_count": 3,
   "id": "1df29342",
   "metadata": {},
   "outputs": [],
   "source": [
    "## Data inspection and cleansing"
   ]
  },
  {
   "cell_type": "code",
   "execution_count": 4,
   "id": "1fe9236e",
   "metadata": {},
   "outputs": [
    {
     "data": {
      "text/plain": [
       "Index(['S.NO', 'Name', 'Nationality', 'Current Rank', 'Previous Year Rank',\n",
       "       'Sport', 'Year', 'earnings ($ million)'],\n",
       "      dtype='object')"
      ]
     },
     "execution_count": 4,
     "metadata": {},
     "output_type": "execute_result"
    }
   ],
   "source": [
    "# Check the columns \n",
    "athletes_df.columns"
   ]
  },
  {
   "cell_type": "code",
   "execution_count": 5,
   "id": "f4affd99",
   "metadata": {},
   "outputs": [
    {
     "name": "stdout",
     "output_type": "stream",
     "text": [
      "There are 301 rows and 8 columns\n"
     ]
    }
   ],
   "source": [
    "# Check how many rows and columns \n",
    "row_num = athletes_df.shape[0]\n",
    "col_num = athletes_df.shape[1]\n",
    "\n",
    "print(f\"There are {row_num} rows and {col_num} columns\")"
   ]
  },
  {
   "cell_type": "code",
   "execution_count": 6,
   "id": "9a853270",
   "metadata": {},
   "outputs": [
    {
     "name": "stdout",
     "output_type": "stream",
     "text": [
      "There are no duplicated rows in dataframe!\n"
     ]
    }
   ],
   "source": [
    "# Check if any duplicated rows in the dataframe \n",
    "\n",
    "# Create a dataframe of duplicated rows \n",
    "duplicated_rows = athletes_df[athletes_df.duplicated()]\n",
    "\n",
    "# Print dataframe duplicates if there are any \n",
    "if not duplicated_rows.empty:\n",
    "    print(duplicated_rows)\n",
    "else: \n",
    "    print(\"There are no duplicated rows in dataframe!\")"
   ]
  },
  {
   "cell_type": "code",
   "execution_count": 7,
   "id": "77582af5",
   "metadata": {},
   "outputs": [
    {
     "data": {
      "text/plain": [
       "S.NO                     0\n",
       "Name                     0\n",
       "Nationality              0\n",
       "Current Rank             0\n",
       "Previous Year Rank      24\n",
       "Sport                    0\n",
       "Year                     0\n",
       "earnings ($ million)     0\n",
       "dtype: int64"
      ]
     },
     "execution_count": 7,
     "metadata": {},
     "output_type": "execute_result"
    }
   ],
   "source": [
    "# Check for missing (NaN) values in the dataframe\n",
    "missing_values_count = athletes_df.isnull().sum()\n",
    "missing_values_count"
   ]
  },
  {
   "cell_type": "code",
   "execution_count": 8,
   "id": "333762ad",
   "metadata": {},
   "outputs": [],
   "source": [
    "# The 'Previous Year Rank' is missing 24 values. These NaN values are Missing at Random (MAR)\n",
    "# The missing data can be explained as those that were not on the list in the previous year \n",
    "# would not have a previous year rank and those where the year was 1990 would not \n",
    "# have a previous year rank as this would be outside of the range of the dataset \n",
    "\n",
    "# This column will be dropped from the analysis to simplify the visualisations as there\n",
    "# is not way to impute this data based on inferences from other values in the data \n",
    "\n",
    "# Drop specified columns \n",
    "athletes_df.drop(['Previous Year Rank'], axis=1, inplace=True)"
   ]
  },
  {
   "cell_type": "code",
   "execution_count": 9,
   "id": "d0dc940b",
   "metadata": {},
   "outputs": [
    {
     "data": {
      "text/plain": [
       "S.NO                    0\n",
       "Name                    0\n",
       "Nationality             0\n",
       "Current Rank            0\n",
       "Sport                   0\n",
       "Year                    0\n",
       "earnings ($ million)    0\n",
       "dtype: int64"
      ]
     },
     "execution_count": 9,
     "metadata": {},
     "output_type": "execute_result"
    }
   ],
   "source": [
    "# Reheck for missing (NaN) values in the dataframe\n",
    "missing_values_count = athletes_df.isnull().sum()\n",
    "missing_values_count"
   ]
  },
  {
   "cell_type": "code",
   "execution_count": 10,
   "id": "4ecb8e7d",
   "metadata": {},
   "outputs": [],
   "source": [
    "# Check unique values in columns "
   ]
  },
  {
   "cell_type": "code",
   "execution_count": 11,
   "id": "2ae16c19",
   "metadata": {},
   "outputs": [
    {
     "data": {
      "text/plain": [
       "array(['Aaron Rodgers', 'Aaron Rogers', 'Alain Prost', 'Alex Rodriguez',\n",
       "       'Andre Agassi', 'Andrew Luck', 'Arnold Palmer', 'Ayrton Senna',\n",
       "       'Buster Douglas', 'Cam Newton', 'Canelo Alvarez', 'Carson Wentz',\n",
       "       'Cecil Fielder', 'Conor McGregor', 'Cristiano Ronaldo',\n",
       "       'Dale Earnhardt', 'Dale Earnhardt Jr.', 'David Beckham',\n",
       "       'Deion Sanders', 'Dennis Rodman', 'Donovan \"Razor\" Ruddock',\n",
       "       'Drew Brees', 'Eli Manning', 'Emmit Smith', 'Evander Holyfield',\n",
       "       'Floyd Mayweather', 'Gary Sheffield', 'George Foreman',\n",
       "       'Gerhard Berger', 'Grant Hill', 'Greg Norman', 'Jack Nicklaus',\n",
       "       'Jacques Villeneuve', 'James Harden', 'Jeff Gordon', 'Jim Courier',\n",
       "       'Joe Montana', 'Joe Sakic', 'Jordan Spieth', 'Kevin Durant',\n",
       "       'Kevin Garnett', 'Kimi Raikkonen', 'Kirk Cousins', 'Kobe Bryant',\n",
       "       'Lance Armstrong', 'LeBron James', 'Lennox Lewis',\n",
       "       'Lewis Hamilton', 'Lionel Messi', 'Manny Pacquiao', 'Matt Ryan',\n",
       "       'Matthew Stafford', 'Michael Jordan', 'Michael Moorer',\n",
       "       'Michael Schumacher', 'Michael Vick', 'Mike Tyson', 'Monica Seles',\n",
       "       'Muhammad Ali', 'Neymar', 'Nigel Mansell', 'Novak Djokovic',\n",
       "       'Oscar De La Hoya', 'Patrick Ewing', 'Peyton Manning',\n",
       "       'Phil Mickelson', 'Rafael Nadal', 'Riddick Bowe', 'Roger Federer',\n",
       "       'Ronaldinho', 'Rory McIlroy', 'Russell Wilson', 'Sergei Federov',\n",
       "       \"Shaq O'Neal\", \"Shaquille O'Neal\", 'Stephen Curry',\n",
       "       'Sugar Ray Leonard', 'Terrell Suggs', 'Tiger Woods', 'Tom Brady',\n",
       "       'Valentino Rossi', 'Wayne Gretzky'], dtype=object)"
      ]
     },
     "execution_count": 11,
     "metadata": {},
     "output_type": "execute_result"
    }
   ],
   "source": [
    "unique_names = athletes_df['Name'].unique()\n",
    "unique_names.sort()\n",
    "unique_names"
   ]
  },
  {
   "cell_type": "code",
   "execution_count": 12,
   "id": "03d47968",
   "metadata": {},
   "outputs": [
    {
     "data": {
      "text/plain": [
       "array(['Argentina', 'Australia', 'Austria', 'Brazil', 'Canada',\n",
       "       'Dominican', 'Filipino', 'Finland', 'France', 'Germany', 'Ireland',\n",
       "       'Italy', 'Mexico', 'Northern Ireland', 'Philippines', 'Portugal',\n",
       "       'Russia', 'Serbia', 'Spain', 'Switzerland', 'UK', 'USA'],\n",
       "      dtype=object)"
      ]
     },
     "execution_count": 12,
     "metadata": {},
     "output_type": "execute_result"
    }
   ],
   "source": [
    "unique_nationality = athletes_df['Nationality'].unique()\n",
    "unique_nationality.sort()\n",
    "unique_nationality"
   ]
  },
  {
   "cell_type": "code",
   "execution_count": 13,
   "id": "bca338a3",
   "metadata": {},
   "outputs": [
    {
     "data": {
      "text/plain": [
       "array(['American Football', 'American Football / Baseball', 'Auto Racing',\n",
       "       'Auto Racing (Nascar)', 'Auto racing', 'Baseball', 'Basketball',\n",
       "       'Boxing', 'F1 Motorsports', 'F1 racing', 'Golf', 'Hockey',\n",
       "       'Ice Hockey', 'MMA', 'NASCAR', 'NBA', 'NFL', 'Soccer', 'Tennis',\n",
       "       'auto racing', 'baseball', 'basketball', 'boxing', 'cycling',\n",
       "       'golf', 'ice hockey', 'motorcycle gp', 'soccer', 'tennis'],\n",
       "      dtype=object)"
      ]
     },
     "execution_count": 13,
     "metadata": {},
     "output_type": "execute_result"
    }
   ],
   "source": [
    "# Sport column has lots of incorrectly entered data \n",
    "unique_sports = athletes_df['Sport'].unique()\n",
    "unique_sports.sort()\n",
    "unique_sports"
   ]
  },
  {
   "cell_type": "code",
   "execution_count": 14,
   "id": "6d52be06",
   "metadata": {},
   "outputs": [],
   "source": [
    "# Convert all entries to lower case \n",
    "athletes_df['Sport'] = athletes_df['Sport'].str.lower()"
   ]
  },
  {
   "cell_type": "code",
   "execution_count": 15,
   "id": "9053a356",
   "metadata": {},
   "outputs": [],
   "source": [
    "def change_sport_entries(df, column, list_of_sports_to_change, string_to_change_to):\n",
    "    \n",
    "    # Get the rows of all the sports that need to be changed\n",
    "    rows_to_be_changed = df[column].isin(list_of_sports_to_change)\n",
    "    \n",
    "    # Replace all rows with the string that was specified on calling the function \n",
    "    df.loc[rows_to_be_changed, column] = string_to_change_to\n",
    "    \n",
    "    print(\"Sport changed!\")"
   ]
  },
  {
   "cell_type": "code",
   "execution_count": 16,
   "id": "e5f1c11d",
   "metadata": {},
   "outputs": [
    {
     "name": "stdout",
     "output_type": "stream",
     "text": [
      "Sport changed!\n"
     ]
    }
   ],
   "source": [
    "# Change auto racing related entries - all racing has been entered as 'auto racing'\n",
    "change_sport_entries(df=athletes_df, column=\"Sport\", \n",
    "                     list_of_sports_to_change=['auto racing (nascar)', 'f1 motorsports', 'f1 racing', 'nascar'], \n",
    "                     string_to_change_to='auto racing')"
   ]
  },
  {
   "cell_type": "code",
   "execution_count": 17,
   "id": "2258786a",
   "metadata": {},
   "outputs": [
    {
     "name": "stdout",
     "output_type": "stream",
     "text": [
      "Sport changed!\n"
     ]
    }
   ],
   "source": [
    "# Change basketball related entries - all basketball has been entered as 'basketball'\n",
    "change_sport_entries(df=athletes_df, column=\"Sport\", \n",
    "                     list_of_sports_to_change=['nba'], \n",
    "                     string_to_change_to='basketball')"
   ]
  },
  {
   "cell_type": "code",
   "execution_count": 18,
   "id": "216f6b4a",
   "metadata": {},
   "outputs": [
    {
     "name": "stdout",
     "output_type": "stream",
     "text": [
      "Sport changed!\n"
     ]
    }
   ],
   "source": [
    "# Change ice hockey related entries - all hockey has been entered as 'ice hockey'\n",
    "change_sport_entries(df=athletes_df, column=\"Sport\", \n",
    "                     list_of_sports_to_change=['hockey'], \n",
    "                     string_to_change_to='ice hockey')"
   ]
  },
  {
   "cell_type": "code",
   "execution_count": 19,
   "id": "abf723c0",
   "metadata": {},
   "outputs": [
    {
     "name": "stdout",
     "output_type": "stream",
     "text": [
      "Sport changed!\n"
     ]
    }
   ],
   "source": [
    "# Change american football related entries - all american football has been entered as 'american football'\n",
    "change_sport_entries(df=athletes_df, column=\"Sport\", \n",
    "                     list_of_sports_to_change=['nfl'], \n",
    "                     string_to_change_to='american football')"
   ]
  },
  {
   "cell_type": "code",
   "execution_count": 20,
   "id": "4025ecfd",
   "metadata": {},
   "outputs": [
    {
     "data": {
      "text/plain": [
       "array(['american football', 'american football / baseball', 'auto racing',\n",
       "       'baseball', 'basketball', 'boxing', 'cycling', 'golf',\n",
       "       'ice hockey', 'mma', 'motorcycle gp', 'soccer', 'tennis'],\n",
       "      dtype=object)"
      ]
     },
     "execution_count": 20,
     "metadata": {},
     "output_type": "execute_result"
    }
   ],
   "source": [
    "# Analysis of the Sport also shows that there is some data entered that can fit into 2 categories \n",
    "unique_sports = athletes_df['Sport'].unique()\n",
    "unique_sports.sort()\n",
    "unique_sports"
   ]
  },
  {
   "cell_type": "code",
   "execution_count": 24,
   "id": "45cc9b81",
   "metadata": {},
   "outputs": [
    {
     "data": {
      "text/html": [
       "<div>\n",
       "<style scoped>\n",
       "    .dataframe tbody tr th:only-of-type {\n",
       "        vertical-align: middle;\n",
       "    }\n",
       "\n",
       "    .dataframe tbody tr th {\n",
       "        vertical-align: top;\n",
       "    }\n",
       "\n",
       "    .dataframe thead th {\n",
       "        text-align: right;\n",
       "    }\n",
       "</style>\n",
       "<table border=\"1\" class=\"dataframe\">\n",
       "  <thead>\n",
       "    <tr style=\"text-align: right;\">\n",
       "      <th></th>\n",
       "      <th>S.NO</th>\n",
       "      <th>Name</th>\n",
       "      <th>Nationality</th>\n",
       "      <th>Current Rank</th>\n",
       "      <th>Sport</th>\n",
       "      <th>Year</th>\n",
       "      <th>earnings ($ million)</th>\n",
       "    </tr>\n",
       "  </thead>\n",
       "  <tbody>\n",
       "    <tr>\n",
       "      <th>52</th>\n",
       "      <td>53</td>\n",
       "      <td>Deion Sanders</td>\n",
       "      <td>USA</td>\n",
       "      <td>3</td>\n",
       "      <td>american football / baseball</td>\n",
       "      <td>1995</td>\n",
       "      <td>22.5</td>\n",
       "    </tr>\n",
       "  </tbody>\n",
       "</table>\n",
       "</div>"
      ],
      "text/plain": [
       "    S.NO           Name Nationality  Current Rank  \\\n",
       "52    53  Deion Sanders         USA             3   \n",
       "\n",
       "                           Sport  Year  earnings ($ million)  \n",
       "52  american football / baseball  1995                  22.5  "
      ]
     },
     "execution_count": 24,
     "metadata": {},
     "output_type": "execute_result"
    }
   ],
   "source": [
    "# Filtering the dataframe shows that there is just one athlete \n",
    "# Deion Sanders played both american football and baseball in 1995 \n",
    "# For the purposes of this analysis, as it is just one data entry, \n",
    "# he will be dropped from the analysis. However, one approach could \n",
    "# be to enter him twice on the list. Seperately for american football\n",
    "# and baseball (although this would affect the earnings ($ million) column too)\n",
    "filtered_df = athletes_df[athletes_df['Sport'] == 'american football / baseball']\n",
    "filtered_df"
   ]
  },
  {
   "cell_type": "code",
   "execution_count": 25,
   "id": "15d82990",
   "metadata": {},
   "outputs": [],
   "source": [
    "athletes_df.drop(52, axis=0, inplace=True)"
   ]
  },
  {
   "cell_type": "code",
   "execution_count": 26,
   "id": "6e922b72",
   "metadata": {},
   "outputs": [
    {
     "data": {
      "text/html": [
       "<div>\n",
       "<style scoped>\n",
       "    .dataframe tbody tr th:only-of-type {\n",
       "        vertical-align: middle;\n",
       "    }\n",
       "\n",
       "    .dataframe tbody tr th {\n",
       "        vertical-align: top;\n",
       "    }\n",
       "\n",
       "    .dataframe thead th {\n",
       "        text-align: right;\n",
       "    }\n",
       "</style>\n",
       "<table border=\"1\" class=\"dataframe\">\n",
       "  <thead>\n",
       "    <tr style=\"text-align: right;\">\n",
       "      <th></th>\n",
       "      <th>S.NO</th>\n",
       "      <th>Name</th>\n",
       "      <th>Nationality</th>\n",
       "      <th>Current Rank</th>\n",
       "      <th>Sport</th>\n",
       "      <th>Year</th>\n",
       "      <th>earnings ($ million)</th>\n",
       "    </tr>\n",
       "  </thead>\n",
       "  <tbody>\n",
       "    <tr>\n",
       "      <th>0</th>\n",
       "      <td>1</td>\n",
       "      <td>Mike Tyson</td>\n",
       "      <td>USA</td>\n",
       "      <td>1</td>\n",
       "      <td>boxing</td>\n",
       "      <td>1990</td>\n",
       "      <td>28.6</td>\n",
       "    </tr>\n",
       "    <tr>\n",
       "      <th>1</th>\n",
       "      <td>2</td>\n",
       "      <td>Buster Douglas</td>\n",
       "      <td>USA</td>\n",
       "      <td>2</td>\n",
       "      <td>boxing</td>\n",
       "      <td>1990</td>\n",
       "      <td>26.0</td>\n",
       "    </tr>\n",
       "    <tr>\n",
       "      <th>2</th>\n",
       "      <td>3</td>\n",
       "      <td>Sugar Ray Leonard</td>\n",
       "      <td>USA</td>\n",
       "      <td>3</td>\n",
       "      <td>boxing</td>\n",
       "      <td>1990</td>\n",
       "      <td>13.0</td>\n",
       "    </tr>\n",
       "    <tr>\n",
       "      <th>3</th>\n",
       "      <td>4</td>\n",
       "      <td>Ayrton Senna</td>\n",
       "      <td>Brazil</td>\n",
       "      <td>4</td>\n",
       "      <td>auto racing</td>\n",
       "      <td>1990</td>\n",
       "      <td>10.0</td>\n",
       "    </tr>\n",
       "    <tr>\n",
       "      <th>4</th>\n",
       "      <td>5</td>\n",
       "      <td>Alain Prost</td>\n",
       "      <td>France</td>\n",
       "      <td>5</td>\n",
       "      <td>auto racing</td>\n",
       "      <td>1990</td>\n",
       "      <td>9.0</td>\n",
       "    </tr>\n",
       "  </tbody>\n",
       "</table>\n",
       "</div>"
      ],
      "text/plain": [
       "   S.NO               Name Nationality  Current Rank        Sport  Year  \\\n",
       "0     1         Mike Tyson         USA             1       boxing  1990   \n",
       "1     2     Buster Douglas         USA             2       boxing  1990   \n",
       "2     3  Sugar Ray Leonard         USA             3       boxing  1990   \n",
       "3     4       Ayrton Senna      Brazil             4  auto racing  1990   \n",
       "4     5        Alain Prost      France             5  auto racing  1990   \n",
       "\n",
       "   earnings ($ million)  \n",
       "0                  28.6  \n",
       "1                  26.0  \n",
       "2                  13.0  \n",
       "3                  10.0  \n",
       "4                   9.0  "
      ]
     },
     "execution_count": 26,
     "metadata": {},
     "output_type": "execute_result"
    }
   ],
   "source": [
    "athletes_df.head()"
   ]
  },
  {
   "cell_type": "code",
   "execution_count": 28,
   "id": "1e15d30b",
   "metadata": {},
   "outputs": [
    {
     "name": "stdout",
     "output_type": "stream",
     "text": [
      "There are 300 rows and 7 columns\n"
     ]
    }
   ],
   "source": [
    "# Check how many rows and columns at the end of data cleaning \n",
    "row_num = athletes_df.shape[0]\n",
    "col_num = athletes_df.shape[1]\n",
    "\n",
    "print(f\"There are {row_num} rows and {col_num} columns\")"
   ]
  },
  {
   "cell_type": "code",
   "execution_count": 29,
   "id": "bf41e6ea",
   "metadata": {},
   "outputs": [],
   "source": [
    "# Exploratory Data Analysis"
   ]
  },
  {
   "cell_type": "code",
   "execution_count": null,
   "id": "a94abdba",
   "metadata": {},
   "outputs": [],
   "source": []
  },
  {
   "cell_type": "code",
   "execution_count": 31,
   "id": "4d083d78",
   "metadata": {},
   "outputs": [],
   "source": [
    "# 1. Which athletes have made the most money from 1990-2020? \n",
    "\n",
    "# Group athletes by name \n",
    "athlete_groupby = athletes_df.groupby(by=['Name'])\n",
    "\n",
    "# Calculate the total earnings of the athletes \n",
    "total_earnings = athlete_groupby.sum(numeric_only=True).drop(columns=['S.NO', 'Current Rank', 'Year'])\n",
    "\n",
    "sorted_total_earnings = total_earnings.sort_values('earnings ($ million)', ascending=False)\n",
    "\n",
    "total_earnings_series = sorted_total_earnings['earnings ($ million)']\n",
    "\n",
    "\n",
    "# Create a dataframe from the data \n",
    "total_earnings_df =  pd.DataFrame({\"Athlete name\": total_earnings_series.index, \"Total earnings\": total_earnings_series.values})\n"
   ]
  },
  {
   "cell_type": "code",
   "execution_count": 32,
   "id": "7b404fe3",
   "metadata": {},
   "outputs": [
    {
     "data": {
      "image/png": "[encoded data removed]",
      "text/plain": [
       "<Figure size 1000x1000 with 1 Axes>"
      ]
     },
     "metadata": {},
     "output_type": "display_data"
    }
   ],
   "source": [
    "# Visualise the provinces with the top 5 highest points \n",
    "plt.figure(figsize=(10,10))\n",
    "plt.title(\"Bar plot visualising the top 5 athletes with the highest total earnings for Forbes Richest Athletes from 1990 - 2020\")\n",
    "\n",
    "sns.barplot(data=total_earnings_df.head(5), x=\"Athlete name\", y=\"Total earnings\")\n",
    "\n",
    "plt.show()"
   ]
  },
  {
   "cell_type": "code",
   "execution_count": 33,
   "id": "53a32239",
   "metadata": {},
   "outputs": [],
   "source": [
    "# Tiger woods has made the most money total from 1990 - 2020"
   ]
  },
  {
   "cell_type": "code",
   "execution_count": 34,
   "id": "df0f30eb",
   "metadata": {},
   "outputs": [
    {
     "data": {
      "text/html": [
       "<div>\n",
       "<style scoped>\n",
       "    .dataframe tbody tr th:only-of-type {\n",
       "        vertical-align: middle;\n",
       "    }\n",
       "\n",
       "    .dataframe tbody tr th {\n",
       "        vertical-align: top;\n",
       "    }\n",
       "\n",
       "    .dataframe thead th {\n",
       "        text-align: right;\n",
       "    }\n",
       "</style>\n",
       "<table border=\"1\" class=\"dataframe\">\n",
       "  <thead>\n",
       "    <tr style=\"text-align: right;\">\n",
       "      <th></th>\n",
       "      <th>S.NO</th>\n",
       "      <th>Name</th>\n",
       "      <th>Nationality</th>\n",
       "      <th>Current Rank</th>\n",
       "      <th>Sport</th>\n",
       "      <th>Year</th>\n",
       "      <th>earnings ($ million)</th>\n",
       "    </tr>\n",
       "  </thead>\n",
       "  <tbody>\n",
       "    <tr>\n",
       "      <th>241</th>\n",
       "      <td>242</td>\n",
       "      <td>Floyd Mayweather</td>\n",
       "      <td>USA</td>\n",
       "      <td>1</td>\n",
       "      <td>boxing</td>\n",
       "      <td>2015</td>\n",
       "      <td>300.0</td>\n",
       "    </tr>\n",
       "  </tbody>\n",
       "</table>\n",
       "</div>"
      ],
      "text/plain": [
       "     S.NO              Name Nationality  Current Rank   Sport  Year  \\\n",
       "241   242  Floyd Mayweather         USA             1  boxing  2015   \n",
       "\n",
       "     earnings ($ million)  \n",
       "241                 300.0  "
      ]
     },
     "execution_count": 34,
     "metadata": {},
     "output_type": "execute_result"
    }
   ],
   "source": [
    "# 2. Which athlete made the most money in a year from 1990 - 2020? \n",
    "sorted_max_earnings = athletes_df.sort_values('earnings ($ million)', ascending=False)\n",
    "\n",
    "sorted_max_earnings.head(1)"
   ]
  },
  {
   "cell_type": "code",
   "execution_count": 65,
   "id": "2cbe7785",
   "metadata": {},
   "outputs": [
    {
     "data": {
      "text/html": [
       "<div>\n",
       "<style scoped>\n",
       "    .dataframe tbody tr th:only-of-type {\n",
       "        vertical-align: middle;\n",
       "    }\n",
       "\n",
       "    .dataframe tbody tr th {\n",
       "        vertical-align: top;\n",
       "    }\n",
       "\n",
       "    .dataframe thead th {\n",
       "        text-align: right;\n",
       "    }\n",
       "</style>\n",
       "<table border=\"1\" class=\"dataframe\">\n",
       "  <thead>\n",
       "    <tr style=\"text-align: right;\">\n",
       "      <th></th>\n",
       "      <th>S.NO</th>\n",
       "      <th>Name</th>\n",
       "      <th>Nationality</th>\n",
       "      <th>Current Rank</th>\n",
       "      <th>Sport</th>\n",
       "      <th>Year</th>\n",
       "      <th>earnings ($ million)</th>\n",
       "    </tr>\n",
       "  </thead>\n",
       "  <tbody>\n",
       "    <tr>\n",
       "      <th>241</th>\n",
       "      <td>242</td>\n",
       "      <td>Floyd Mayweather</td>\n",
       "      <td>USA</td>\n",
       "      <td>1</td>\n",
       "      <td>boxing</td>\n",
       "      <td>2015</td>\n",
       "      <td>300.0</td>\n",
       "    </tr>\n",
       "    <tr>\n",
       "      <th>242</th>\n",
       "      <td>243</td>\n",
       "      <td>Manny Pacquiao</td>\n",
       "      <td>Philippines</td>\n",
       "      <td>2</td>\n",
       "      <td>boxing</td>\n",
       "      <td>2015</td>\n",
       "      <td>160.0</td>\n",
       "    </tr>\n",
       "    <tr>\n",
       "      <th>243</th>\n",
       "      <td>244</td>\n",
       "      <td>Cristiano Ronaldo</td>\n",
       "      <td>Portugal</td>\n",
       "      <td>3</td>\n",
       "      <td>soccer</td>\n",
       "      <td>2015</td>\n",
       "      <td>79.6</td>\n",
       "    </tr>\n",
       "    <tr>\n",
       "      <th>244</th>\n",
       "      <td>245</td>\n",
       "      <td>Lionel Messi</td>\n",
       "      <td>Argentina</td>\n",
       "      <td>4</td>\n",
       "      <td>soccer</td>\n",
       "      <td>2015</td>\n",
       "      <td>73.8</td>\n",
       "    </tr>\n",
       "    <tr>\n",
       "      <th>245</th>\n",
       "      <td>246</td>\n",
       "      <td>Roger Federer</td>\n",
       "      <td>Switzerland</td>\n",
       "      <td>5</td>\n",
       "      <td>tennis</td>\n",
       "      <td>2015</td>\n",
       "      <td>67.0</td>\n",
       "    </tr>\n",
       "    <tr>\n",
       "      <th>246</th>\n",
       "      <td>247</td>\n",
       "      <td>LeBron James</td>\n",
       "      <td>USA</td>\n",
       "      <td>6</td>\n",
       "      <td>basketball</td>\n",
       "      <td>2015</td>\n",
       "      <td>64.8</td>\n",
       "    </tr>\n",
       "    <tr>\n",
       "      <th>247</th>\n",
       "      <td>248</td>\n",
       "      <td>Kevin Durant</td>\n",
       "      <td>USA</td>\n",
       "      <td>7</td>\n",
       "      <td>basketball</td>\n",
       "      <td>2015</td>\n",
       "      <td>54.2</td>\n",
       "    </tr>\n",
       "    <tr>\n",
       "      <th>248</th>\n",
       "      <td>249</td>\n",
       "      <td>Phil Mickelson</td>\n",
       "      <td>USA</td>\n",
       "      <td>8</td>\n",
       "      <td>golf</td>\n",
       "      <td>2015</td>\n",
       "      <td>50.8</td>\n",
       "    </tr>\n",
       "    <tr>\n",
       "      <th>249</th>\n",
       "      <td>250</td>\n",
       "      <td>Tiger Woods</td>\n",
       "      <td>USA</td>\n",
       "      <td>9</td>\n",
       "      <td>golf</td>\n",
       "      <td>2015</td>\n",
       "      <td>50.6</td>\n",
       "    </tr>\n",
       "    <tr>\n",
       "      <th>250</th>\n",
       "      <td>251</td>\n",
       "      <td>Kobe Bryant</td>\n",
       "      <td>USA</td>\n",
       "      <td>10</td>\n",
       "      <td>basketball</td>\n",
       "      <td>2015</td>\n",
       "      <td>49.5</td>\n",
       "    </tr>\n",
       "  </tbody>\n",
       "</table>\n",
       "</div>"
      ],
      "text/plain": [
       "     S.NO               Name  Nationality  Current Rank       Sport  Year  \\\n",
       "241   242   Floyd Mayweather          USA             1      boxing  2015   \n",
       "242   243     Manny Pacquiao  Philippines             2      boxing  2015   \n",
       "243   244  Cristiano Ronaldo     Portugal             3      soccer  2015   \n",
       "244   245       Lionel Messi    Argentina             4      soccer  2015   \n",
       "245   246      Roger Federer  Switzerland             5      tennis  2015   \n",
       "246   247       LeBron James          USA             6  basketball  2015   \n",
       "247   248       Kevin Durant          USA             7  basketball  2015   \n",
       "248   249     Phil Mickelson          USA             8        golf  2015   \n",
       "249   250        Tiger Woods          USA             9        golf  2015   \n",
       "250   251        Kobe Bryant          USA            10  basketball  2015   \n",
       "\n",
       "     earnings ($ million)  \n",
       "241                 300.0  \n",
       "242                 160.0  \n",
       "243                  79.6  \n",
       "244                  73.8  \n",
       "245                  67.0  \n",
       "246                  64.8  \n",
       "247                  54.2  \n",
       "248                  50.8  \n",
       "249                  50.6  \n",
       "250                  49.5  "
      ]
     },
     "execution_count": 65,
     "metadata": {},
     "output_type": "execute_result"
    }
   ],
   "source": [
    "sorted_max_earnings[sorted_max_earnings[\"Year\"] == 2015]"
   ]
  },
  {
   "cell_type": "code",
   "execution_count": 35,
   "id": "7f230b59",
   "metadata": {},
   "outputs": [],
   "source": [
    "# Floyd Mayweather made the most money in a year in 2015 when he earned $300 million by Boxing"
   ]
  },
  {
   "cell_type": "code",
   "execution_count": 39,
   "id": "a5401a6d",
   "metadata": {},
   "outputs": [],
   "source": [
    "# 3. Which sport leads to the most earnings on average from 1990 - 2020?\n",
    "\n",
    "groupby_sport = athletes_df.groupby(by=['Sport'])\n",
    "\n",
    "sport_earnings_avg = groupby_sport.mean(numeric_only=True).drop(columns=['S.NO', 'Current Rank', 'Year'])\n",
    "\n",
    "sorted_sport_earnings_avg = sport_earnings_avg.sort_values('earnings ($ million)', ascending=False)\n",
    "\n",
    "sport_earnings_series = sorted_sport_earnings_avg['earnings ($ million)']\n",
    "\n",
    "# Create a dataframe from the data \n",
    "sport_earnings_df =  pd.DataFrame({\"Sport\": sport_earnings_series.index, \"Average earnings\": sport_earnings_series.values})\n"
   ]
  },
  {
   "cell_type": "code",
   "execution_count": 40,
   "id": "f52184a5",
   "metadata": {},
   "outputs": [
    {
     "data": {
      "text/html": [
       "<div>\n",
       "<style scoped>\n",
       "    .dataframe tbody tr th:only-of-type {\n",
       "        vertical-align: middle;\n",
       "    }\n",
       "\n",
       "    .dataframe tbody tr th {\n",
       "        vertical-align: top;\n",
       "    }\n",
       "\n",
       "    .dataframe thead th {\n",
       "        text-align: right;\n",
       "    }\n",
       "</style>\n",
       "<table border=\"1\" class=\"dataframe\">\n",
       "  <thead>\n",
       "    <tr style=\"text-align: right;\">\n",
       "      <th></th>\n",
       "      <th>earnings ($ million)</th>\n",
       "    </tr>\n",
       "    <tr>\n",
       "      <th>Sport</th>\n",
       "      <th></th>\n",
       "    </tr>\n",
       "  </thead>\n",
       "  <tbody>\n",
       "    <tr>\n",
       "      <th>american football</th>\n",
       "      <td>46.935000</td>\n",
       "    </tr>\n",
       "    <tr>\n",
       "      <th>auto racing</th>\n",
       "      <td>32.027778</td>\n",
       "    </tr>\n",
       "    <tr>\n",
       "      <th>baseball</th>\n",
       "      <td>24.350000</td>\n",
       "    </tr>\n",
       "    <tr>\n",
       "      <th>basketball</th>\n",
       "      <td>41.869512</td>\n",
       "    </tr>\n",
       "    <tr>\n",
       "      <th>boxing</th>\n",
       "      <td>49.973913</td>\n",
       "    </tr>\n",
       "    <tr>\n",
       "      <th>cycling</th>\n",
       "      <td>28.000000</td>\n",
       "    </tr>\n",
       "    <tr>\n",
       "      <th>golf</th>\n",
       "      <td>48.556818</td>\n",
       "    </tr>\n",
       "    <tr>\n",
       "      <th>ice hockey</th>\n",
       "      <td>18.925000</td>\n",
       "    </tr>\n",
       "    <tr>\n",
       "      <th>mma</th>\n",
       "      <td>99.000000</td>\n",
       "    </tr>\n",
       "    <tr>\n",
       "      <th>motorcycle gp</th>\n",
       "      <td>32.000000</td>\n",
       "    </tr>\n",
       "    <tr>\n",
       "      <th>soccer</th>\n",
       "      <td>67.378788</td>\n",
       "    </tr>\n",
       "    <tr>\n",
       "      <th>tennis</th>\n",
       "      <td>44.230435</td>\n",
       "    </tr>\n",
       "  </tbody>\n",
       "</table>\n",
       "</div>"
      ],
      "text/plain": [
       "                   earnings ($ million)\n",
       "Sport                                  \n",
       "american football             46.935000\n",
       "auto racing                   32.027778\n",
       "baseball                      24.350000\n",
       "basketball                    41.869512\n",
       "boxing                        49.973913\n",
       "cycling                       28.000000\n",
       "golf                          48.556818\n",
       "ice hockey                    18.925000\n",
       "mma                           99.000000\n",
       "motorcycle gp                 32.000000\n",
       "soccer                        67.378788\n",
       "tennis                        44.230435"
      ]
     },
     "execution_count": 40,
     "metadata": {},
     "output_type": "execute_result"
    }
   ],
   "source": [
    "sport_earnings_avg"
   ]
  },
  {
   "cell_type": "code",
   "execution_count": 41,
   "id": "72890395",
   "metadata": {},
   "outputs": [
    {
     "data": {
      "image/png": "[encoded data removed]",
      "text/plain": [
       "<Figure size 1000x1000 with 1 Axes>"
      ]
     },
     "metadata": {},
     "output_type": "display_data"
    }
   ],
   "source": [
    "# Visualise the provinces with the top 5 highest points \n",
    "plt.figure(figsize=(10,10))\n",
    "plt.title(\"Bar plot visualising the top 5 highest paying sports on average for Forbes Richest Athletes from 1990 - 2020\")\n",
    "\n",
    "sns.barplot(data=sport_earnings_df.head(5), x=\"Sport\", y=\"Average earnings\")\n",
    "\n",
    "plt.show()"
   ]
  },
  {
   "cell_type": "code",
   "execution_count": 42,
   "id": "00f8efdf",
   "metadata": {},
   "outputs": [],
   "source": [
    "# MMA is the sport with the highest average earnings "
   ]
  },
  {
   "cell_type": "code",
   "execution_count": 43,
   "id": "c5cfd333",
   "metadata": {},
   "outputs": [],
   "source": [
    "# 4. Which year had the highest earnings to be an athlete? \n",
    "\n",
    "groupby_year = athletes_df.groupby(by=['Year'])\n",
    "\n",
    "year_earnings_avg = round(groupby_year.mean(numeric_only=True), 2)\n",
    "\n",
    "year_earnings_avg.drop(columns=['S.NO', 'Current Rank'], inplace=True)\n",
    "\n",
    "year_earnings_avg_series = year_earnings_avg['earnings ($ million)']\n",
    "\n",
    "# Create a dataframe from the data \n",
    "year_earnings_df =  pd.DataFrame({\"Year\": year_earnings_avg_series.index, \"Average earnings\": year_earnings_avg_series.values})\n"
   ]
  },
  {
   "cell_type": "code",
   "execution_count": 44,
   "id": "2984bfc4",
   "metadata": {},
   "outputs": [
    {
     "data": {
      "text/html": [
       "<div>\n",
       "<style scoped>\n",
       "    .dataframe tbody tr th:only-of-type {\n",
       "        vertical-align: middle;\n",
       "    }\n",
       "\n",
       "    .dataframe tbody tr th {\n",
       "        vertical-align: top;\n",
       "    }\n",
       "\n",
       "    .dataframe thead th {\n",
       "        text-align: right;\n",
       "    }\n",
       "</style>\n",
       "<table border=\"1\" class=\"dataframe\">\n",
       "  <thead>\n",
       "    <tr style=\"text-align: right;\">\n",
       "      <th></th>\n",
       "      <th>Year</th>\n",
       "      <th>Average earnings</th>\n",
       "    </tr>\n",
       "  </thead>\n",
       "  <tbody>\n",
       "    <tr>\n",
       "      <th>0</th>\n",
       "      <td>1990</td>\n",
       "      <td>12.80</td>\n",
       "    </tr>\n",
       "    <tr>\n",
       "      <th>1</th>\n",
       "      <td>1991</td>\n",
       "      <td>18.35</td>\n",
       "    </tr>\n",
       "    <tr>\n",
       "      <th>2</th>\n",
       "      <td>1992</td>\n",
       "      <td>15.87</td>\n",
       "    </tr>\n",
       "    <tr>\n",
       "      <th>3</th>\n",
       "      <td>1993</td>\n",
       "      <td>17.83</td>\n",
       "    </tr>\n",
       "    <tr>\n",
       "      <th>4</th>\n",
       "      <td>1994</td>\n",
       "      <td>14.89</td>\n",
       "    </tr>\n",
       "    <tr>\n",
       "      <th>5</th>\n",
       "      <td>1995</td>\n",
       "      <td>22.96</td>\n",
       "    </tr>\n",
       "    <tr>\n",
       "      <th>6</th>\n",
       "      <td>1996</td>\n",
       "      <td>27.31</td>\n",
       "    </tr>\n",
       "    <tr>\n",
       "      <th>7</th>\n",
       "      <td>1997</td>\n",
       "      <td>33.81</td>\n",
       "    </tr>\n",
       "    <tr>\n",
       "      <th>8</th>\n",
       "      <td>1998</td>\n",
       "      <td>28.14</td>\n",
       "    </tr>\n",
       "    <tr>\n",
       "      <th>9</th>\n",
       "      <td>1999</td>\n",
       "      <td>35.75</td>\n",
       "    </tr>\n",
       "    <tr>\n",
       "      <th>10</th>\n",
       "      <td>2000</td>\n",
       "      <td>33.85</td>\n",
       "    </tr>\n",
       "    <tr>\n",
       "      <th>11</th>\n",
       "      <td>2002</td>\n",
       "      <td>32.36</td>\n",
       "    </tr>\n",
       "    <tr>\n",
       "      <th>12</th>\n",
       "      <td>2003</td>\n",
       "      <td>37.50</td>\n",
       "    </tr>\n",
       "    <tr>\n",
       "      <th>13</th>\n",
       "      <td>2004</td>\n",
       "      <td>40.74</td>\n",
       "    </tr>\n",
       "    <tr>\n",
       "      <th>14</th>\n",
       "      <td>2005</td>\n",
       "      <td>40.62</td>\n",
       "    </tr>\n",
       "    <tr>\n",
       "      <th>15</th>\n",
       "      <td>2006</td>\n",
       "      <td>43.10</td>\n",
       "    </tr>\n",
       "    <tr>\n",
       "      <th>16</th>\n",
       "      <td>2007</td>\n",
       "      <td>42.10</td>\n",
       "    </tr>\n",
       "    <tr>\n",
       "      <th>17</th>\n",
       "      <td>2008</td>\n",
       "      <td>48.30</td>\n",
       "    </tr>\n",
       "    <tr>\n",
       "      <th>18</th>\n",
       "      <td>2009</td>\n",
       "      <td>47.60</td>\n",
       "    </tr>\n",
       "    <tr>\n",
       "      <th>19</th>\n",
       "      <td>2010</td>\n",
       "      <td>51.37</td>\n",
       "    </tr>\n",
       "    <tr>\n",
       "      <th>20</th>\n",
       "      <td>2011</td>\n",
       "      <td>44.88</td>\n",
       "    </tr>\n",
       "    <tr>\n",
       "      <th>21</th>\n",
       "      <td>2012</td>\n",
       "      <td>54.31</td>\n",
       "    </tr>\n",
       "    <tr>\n",
       "      <th>22</th>\n",
       "      <td>2013</td>\n",
       "      <td>55.25</td>\n",
       "    </tr>\n",
       "    <tr>\n",
       "      <th>23</th>\n",
       "      <td>2014</td>\n",
       "      <td>64.24</td>\n",
       "    </tr>\n",
       "    <tr>\n",
       "      <th>24</th>\n",
       "      <td>2015</td>\n",
       "      <td>95.03</td>\n",
       "    </tr>\n",
       "    <tr>\n",
       "      <th>25</th>\n",
       "      <td>2016</td>\n",
       "      <td>63.52</td>\n",
       "    </tr>\n",
       "    <tr>\n",
       "      <th>26</th>\n",
       "      <td>2017</td>\n",
       "      <td>62.37</td>\n",
       "    </tr>\n",
       "    <tr>\n",
       "      <th>27</th>\n",
       "      <td>2018</td>\n",
       "      <td>105.94</td>\n",
       "    </tr>\n",
       "    <tr>\n",
       "      <th>28</th>\n",
       "      <td>2019</td>\n",
       "      <td>94.14</td>\n",
       "    </tr>\n",
       "    <tr>\n",
       "      <th>29</th>\n",
       "      <td>2020</td>\n",
       "      <td>81.92</td>\n",
       "    </tr>\n",
       "  </tbody>\n",
       "</table>\n",
       "</div>"
      ],
      "text/plain": [
       "    Year  Average earnings\n",
       "0   1990             12.80\n",
       "1   1991             18.35\n",
       "2   1992             15.87\n",
       "3   1993             17.83\n",
       "4   1994             14.89\n",
       "5   1995             22.96\n",
       "6   1996             27.31\n",
       "7   1997             33.81\n",
       "8   1998             28.14\n",
       "9   1999             35.75\n",
       "10  2000             33.85\n",
       "11  2002             32.36\n",
       "12  2003             37.50\n",
       "13  2004             40.74\n",
       "14  2005             40.62\n",
       "15  2006             43.10\n",
       "16  2007             42.10\n",
       "17  2008             48.30\n",
       "18  2009             47.60\n",
       "19  2010             51.37\n",
       "20  2011             44.88\n",
       "21  2012             54.31\n",
       "22  2013             55.25\n",
       "23  2014             64.24\n",
       "24  2015             95.03\n",
       "25  2016             63.52\n",
       "26  2017             62.37\n",
       "27  2018            105.94\n",
       "28  2019             94.14\n",
       "29  2020             81.92"
      ]
     },
     "execution_count": 44,
     "metadata": {},
     "output_type": "execute_result"
    }
   ],
   "source": [
    "year_earnings_df "
   ]
  },
  {
   "cell_type": "code",
   "execution_count": 45,
   "id": "f6b85f06",
   "metadata": {},
   "outputs": [
    {
     "data": {
      "image/png": "[encoded data removed]",
      "text/plain": [
       "<Figure size 640x480 with 1 Axes>"
      ]
     },
     "metadata": {},
     "output_type": "display_data"
    }
   ],
   "source": [
    "# Visualise the provinces with the top 5 highest points \n",
    "# plt.figure(figsize=(10,10))\n",
    "plt.title(\"Line plot visualising the yearly mean average salary for athletes on 'Forbes Richest Athletes from 1990 - 2020' list\")\n",
    "\n",
    "plt.ylabel(\"Average earnings ($ million)\")\n",
    "sns.lineplot(data=year_earnings_df , x=\"Year\", y=\"Average earnings\")\n",
    "\n",
    "plt.show()\n",
    "\n"
   ]
  },
  {
   "cell_type": "code",
   "execution_count": 46,
   "id": "992812ff",
   "metadata": {},
   "outputs": [],
   "source": [
    "# The above visualisation shows that the average earnings for the richest athletes \n",
    "# generally increased over the 20 year period but there were some significant spikes in 2015 and 2018, \n",
    "# that appear to be above the general trend"
   ]
  },
  {
   "cell_type": "code",
   "execution_count": 66,
   "id": "d9afe4fa",
   "metadata": {},
   "outputs": [
    {
     "data": {
      "text/html": [
       "<div>\n",
       "<style scoped>\n",
       "    .dataframe tbody tr th:only-of-type {\n",
       "        vertical-align: middle;\n",
       "    }\n",
       "\n",
       "    .dataframe tbody tr th {\n",
       "        vertical-align: top;\n",
       "    }\n",
       "\n",
       "    .dataframe thead th {\n",
       "        text-align: right;\n",
       "    }\n",
       "</style>\n",
       "<table border=\"1\" class=\"dataframe\">\n",
       "  <thead>\n",
       "    <tr style=\"text-align: right;\">\n",
       "      <th></th>\n",
       "      <th>S.NO</th>\n",
       "      <th>Name</th>\n",
       "      <th>Nationality</th>\n",
       "      <th>Current Rank</th>\n",
       "      <th>Sport</th>\n",
       "      <th>Year</th>\n",
       "      <th>earnings ($ million)</th>\n",
       "    </tr>\n",
       "  </thead>\n",
       "  <tbody>\n",
       "    <tr>\n",
       "      <th>271</th>\n",
       "      <td>272</td>\n",
       "      <td>Floyd Mayweather</td>\n",
       "      <td>USA</td>\n",
       "      <td>1</td>\n",
       "      <td>boxing</td>\n",
       "      <td>2018</td>\n",
       "      <td>285.0</td>\n",
       "    </tr>\n",
       "    <tr>\n",
       "      <th>272</th>\n",
       "      <td>273</td>\n",
       "      <td>Lionel Messi</td>\n",
       "      <td>Argentina</td>\n",
       "      <td>2</td>\n",
       "      <td>soccer</td>\n",
       "      <td>2018</td>\n",
       "      <td>111.0</td>\n",
       "    </tr>\n",
       "    <tr>\n",
       "      <th>273</th>\n",
       "      <td>274</td>\n",
       "      <td>Cristiano Ronaldo</td>\n",
       "      <td>Portugal</td>\n",
       "      <td>3</td>\n",
       "      <td>soccer</td>\n",
       "      <td>2018</td>\n",
       "      <td>108.0</td>\n",
       "    </tr>\n",
       "    <tr>\n",
       "      <th>274</th>\n",
       "      <td>275</td>\n",
       "      <td>Conor McGregor</td>\n",
       "      <td>Ireland</td>\n",
       "      <td>4</td>\n",
       "      <td>mma</td>\n",
       "      <td>2018</td>\n",
       "      <td>99.0</td>\n",
       "    </tr>\n",
       "    <tr>\n",
       "      <th>275</th>\n",
       "      <td>276</td>\n",
       "      <td>Neymar</td>\n",
       "      <td>Brazil</td>\n",
       "      <td>5</td>\n",
       "      <td>soccer</td>\n",
       "      <td>2018</td>\n",
       "      <td>90.0</td>\n",
       "    </tr>\n",
       "    <tr>\n",
       "      <th>276</th>\n",
       "      <td>277</td>\n",
       "      <td>LeBron James</td>\n",
       "      <td>USA</td>\n",
       "      <td>6</td>\n",
       "      <td>basketball</td>\n",
       "      <td>2018</td>\n",
       "      <td>85.5</td>\n",
       "    </tr>\n",
       "    <tr>\n",
       "      <th>277</th>\n",
       "      <td>278</td>\n",
       "      <td>Roger Federer</td>\n",
       "      <td>Switzerland</td>\n",
       "      <td>7</td>\n",
       "      <td>tennis</td>\n",
       "      <td>2018</td>\n",
       "      <td>77.2</td>\n",
       "    </tr>\n",
       "    <tr>\n",
       "      <th>278</th>\n",
       "      <td>279</td>\n",
       "      <td>Stephen Curry</td>\n",
       "      <td>USA</td>\n",
       "      <td>8</td>\n",
       "      <td>basketball</td>\n",
       "      <td>2018</td>\n",
       "      <td>76.9</td>\n",
       "    </tr>\n",
       "    <tr>\n",
       "      <th>279</th>\n",
       "      <td>280</td>\n",
       "      <td>Matt Ryan</td>\n",
       "      <td>USA</td>\n",
       "      <td>9</td>\n",
       "      <td>american football</td>\n",
       "      <td>2018</td>\n",
       "      <td>67.3</td>\n",
       "    </tr>\n",
       "    <tr>\n",
       "      <th>280</th>\n",
       "      <td>281</td>\n",
       "      <td>Matthew Stafford</td>\n",
       "      <td>USA</td>\n",
       "      <td>10</td>\n",
       "      <td>american football</td>\n",
       "      <td>2018</td>\n",
       "      <td>59.5</td>\n",
       "    </tr>\n",
       "  </tbody>\n",
       "</table>\n",
       "</div>"
      ],
      "text/plain": [
       "     S.NO               Name  Nationality  Current Rank              Sport  \\\n",
       "271   272   Floyd Mayweather          USA             1             boxing   \n",
       "272   273       Lionel Messi    Argentina             2             soccer   \n",
       "273   274  Cristiano Ronaldo     Portugal             3             soccer   \n",
       "274   275     Conor McGregor      Ireland             4                mma   \n",
       "275   276             Neymar       Brazil             5             soccer   \n",
       "276   277       LeBron James          USA             6         basketball   \n",
       "277   278      Roger Federer  Switzerland             7             tennis   \n",
       "278   279      Stephen Curry          USA             8         basketball   \n",
       "279   280          Matt Ryan          USA             9  american football   \n",
       "280   281   Matthew Stafford          USA            10  american football   \n",
       "\n",
       "     Year  earnings ($ million)  \n",
       "271  2018                 285.0  \n",
       "272  2018                 111.0  \n",
       "273  2018                 108.0  \n",
       "274  2018                  99.0  \n",
       "275  2018                  90.0  \n",
       "276  2018                  85.5  \n",
       "277  2018                  77.2  \n",
       "278  2018                  76.9  \n",
       "279  2018                  67.3  \n",
       "280  2018                  59.5  "
      ]
     },
     "execution_count": 66,
     "metadata": {},
     "output_type": "execute_result"
    }
   ],
   "source": [
    "sorted_max_earnings[sorted_max_earnings[\"Year\"] == 2018]"
   ]
  },
  {
   "cell_type": "code",
   "execution_count": 67,
   "id": "94c656d0",
   "metadata": {},
   "outputs": [
    {
     "data": {
      "image/png": "[encoded data removed]",
      "text/plain": [
       "<Figure size 1500x1500 with 1 Axes>"
      ]
     },
     "metadata": {},
     "output_type": "display_data"
    }
   ],
   "source": [
    "# 5. What is the frequency of the different sports played by the richest athletes from 1990 - 2020? \n",
    "\n",
    "\n",
    "sport_df = groupby_sport.count()\n",
    "\n",
    "# Isolate just 1 column from dataframe and create a series \n",
    "sport_series = sport_df [sport_df .columns[1]]\n",
    "\n",
    "sport_series\n",
    "\n",
    "# Create pie chart\n",
    "pie, ax = plt.subplots(figsize=[15,15])\n",
    "labels = sport_series.keys()\n",
    "plt.pie(x=sport_series, autopct=\"%.1f%%\", labels=labels, pctdistance=0.5)\n",
    "plt.title(\"Pie plot visualising the frequency of sports played by the richest athletes from 1990 - 2020\", fontsize=25);"
   ]
  },
  {
   "cell_type": "code",
   "execution_count": 56,
   "id": "15e1bd8d",
   "metadata": {},
   "outputs": [
    {
     "data": {
      "text/plain": [
       "Sport\n",
       "american football    20\n",
       "auto racing          36\n",
       "baseball              6\n",
       "basketball           82\n",
       "boxing               46\n",
       "cycling               1\n",
       "golf                 44\n",
       "ice hockey            4\n",
       "mma                   1\n",
       "motorcycle gp         4\n",
       "soccer               33\n",
       "tennis               23\n",
       "Name: Name, dtype: int64"
      ]
     },
     "execution_count": 56,
     "metadata": {},
     "output_type": "execute_result"
    }
   ],
   "source": [
    "sport_series"
   ]
  },
  {
   "cell_type": "code",
   "execution_count": 57,
   "id": "52a9f079",
   "metadata": {},
   "outputs": [],
   "source": [
    "# The highest percentage of the richest athletes from 1990 - 2020 were basketball players "
   ]
  },
  {
   "cell_type": "code",
   "execution_count": 61,
   "id": "6a090aaa",
   "metadata": {},
   "outputs": [
    {
     "data": {
      "text/plain": [
       "Sport\n",
       "basketball           82\n",
       "boxing               46\n",
       "golf                 44\n",
       "auto racing          36\n",
       "soccer               33\n",
       "tennis               23\n",
       "american football    20\n",
       "baseball              6\n",
       "ice hockey            4\n",
       "motorcycle gp         4\n",
       "cycling               1\n",
       "mma                   1\n",
       "Name: Name, dtype: int64"
      ]
     },
     "execution_count": 61,
     "metadata": {},
     "output_type": "execute_result"
    }
   ],
   "source": [
    "# Create a histogram multigrid plot comparing earnings for the each of the sports \n",
    "\n",
    "# The above visualisation shows that some sports had very few athletes. \n",
    "sorted_sports = sport_series.sort_values(ascending=False)\n",
    "\n",
    "sorted_sports"
   ]
  },
  {
   "cell_type": "code",
   "execution_count": 62,
   "id": "9b223159",
   "metadata": {},
   "outputs": [
    {
     "data": {
      "text/plain": [
       "Sport\n",
       "basketball     82\n",
       "boxing         46\n",
       "golf           44\n",
       "auto racing    36\n",
       "soccer         33\n",
       "Name: Name, dtype: int64"
      ]
     },
     "execution_count": 62,
     "metadata": {},
     "output_type": "execute_result"
    }
   ],
   "source": [
    "# The sports with the top 5 frequencies of athletes are:\n",
    "sorted_sports.head(5)"
   ]
  },
  {
   "cell_type": "code",
   "execution_count": 63,
   "id": "fb9e8474",
   "metadata": {},
   "outputs": [
    {
     "data": {
      "image/png": "[encoded data removed]",
      "text/plain": [
       "<Figure size 1511.11x300 with 5 Axes>"
      ]
     },
     "metadata": {},
     "output_type": "display_data"
    }
   ],
   "source": [
    "sport_filtered_df = athletes_df[(athletes_df['Sport'] == 'basketball') | (athletes_df['Sport'] == 'boxing') | (athletes_df['Sport'] == 'golf') | (athletes_df['Sport'] == 'auto racing') | (athletes_df['Sport'] == 'soccer')]\n",
    "\n",
    "fg = sns.FacetGrid(sport_filtered_df, col=\"Sport\", margin_titles=True)\n",
    "\n",
    "fg.map(sns.histplot, 'earnings ($ million)')\n",
    "\n",
    "fg.add_legend()\n",
    "plt.show()"
   ]
  },
  {
   "cell_type": "code",
   "execution_count": 64,
   "id": "34a53d22",
   "metadata": {},
   "outputs": [],
   "source": [
    "# The above visualisation shows that boxing has a slightly greater range of earnings as an athlete.\n",
    "# Basketball players follow more of a classic normal distribution"
   ]
  },
  {
   "cell_type": "code",
   "execution_count": null,
   "id": "62f4d0a0",
   "metadata": {},
   "outputs": [],
   "source": []
  }
 ],
 "metadata": {
  "kernelspec": {
   "display_name": "Python 3 (ipykernel)",
   "language": "python",
   "name": "python3"
  },
  "language_info": {
   "codemirror_mode": {
    "name": "ipython",
    "version": 3
   },
   "file_extension": ".py",
   "mimetype": "text/x-python",
   "name": "python",
   "nbconvert_exporter": "python",
   "pygments_lexer": "ipython3",
   "version": "3.10.4"
  }
 },
 "nbformat": 4,
 "nbformat_minor": 5
}
